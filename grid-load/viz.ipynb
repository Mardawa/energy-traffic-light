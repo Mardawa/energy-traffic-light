{
 "cells": [
  {
   "cell_type": "code",
   "execution_count": 3,
   "metadata": {},
   "outputs": [],
   "source": [
    "import importlib\n",
    "import pathlib as pl\n",
    "import sqlite3\n",
    "\n",
    "from tqdm import tqdm\n",
    "\n",
    "import grid_load.processing as glp\n",
    "\n",
    "importlib.reload(glp)\n",
    "\n",
    "conn = sqlite3.connect(\"local.db\")\n",
    "\n",
    "# files = list(pl.Path(\"../data\").glob(\"*.csv\"))\n",
    "# for file in tqdm(files, total=len(files)):\n",
    "#     df = glp.extract_data(file)\n",
    "#     df = glp.transform_data(df)\n",
    "#     if \"Trafostation\" in file.stem:\n",
    "#         df.to_sql(\"grid_consumption\", conn, if_exists=\"append\", index=False)\n",
    "#     elif \"Wohnung\" in file.stem:\n",
    "#         user_id = int(file.stem.split(\"_\")[0])\n",
    "#         df[\"user_id\"] = user_id\n",
    "#         df.to_sql(\"user_consumption\", conn, if_exists=\"append\", index=False)\n",
    "\n",
    "# conn.close()"
   ]
  },
  {
   "cell_type": "code",
   "execution_count": 4,
   "metadata": {},
   "outputs": [],
   "source": [
    "import pandas as pd\n",
    "\n",
    "sql = \"Select * from grid_consumption order by ts desc\"\n",
    "df_lite = pd.read_sql(sql, conn)"
   ]
  },
  {
   "cell_type": "code",
   "execution_count": 5,
   "metadata": {},
   "outputs": [
    {
     "name": "stderr",
     "output_type": "stream",
     "text": [
      "Locator attempting to generate 1263 ticks ([-14.333333333333334, ..., 301.1666666666667]), which exceeds Locator.MAXTICKS (1000).\n",
      "Locator attempting to generate 1263 ticks ([-14.333333333333334, ..., 301.1666666666667]), which exceeds Locator.MAXTICKS (1000).\n",
      "Locator attempting to generate 1263 ticks ([-14.333333333333334, ..., 301.1666666666667]), which exceeds Locator.MAXTICKS (1000).\n",
      "Locator attempting to generate 1263 ticks ([-14.333333333333334, ..., 301.1666666666667]), which exceeds Locator.MAXTICKS (1000).\n",
      "Locator attempting to generate 1263 ticks ([-14.333333333333334, ..., 301.1666666666667]), which exceeds Locator.MAXTICKS (1000).\n",
      "Locator attempting to generate 1263 ticks ([-14.333333333333334, ..., 301.1666666666667]), which exceeds Locator.MAXTICKS (1000).\n",
      "Locator attempting to generate 1263 ticks ([-14.333333333333334, ..., 301.1666666666667]), which exceeds Locator.MAXTICKS (1000).\n",
      "Locator attempting to generate 1263 ticks ([-14.333333333333334, ..., 301.1666666666667]), which exceeds Locator.MAXTICKS (1000).\n",
      "Locator attempting to generate 1263 ticks ([-14.333333333333334, ..., 301.1666666666667]), which exceeds Locator.MAXTICKS (1000).\n",
      "Locator attempting to generate 1263 ticks ([-14.333333333333334, ..., 301.1666666666667]), which exceeds Locator.MAXTICKS (1000).\n",
      "Locator attempting to generate 1263 ticks ([-14.333333333333334, ..., 301.1666666666667]), which exceeds Locator.MAXTICKS (1000).\n"
     ]
    }
   ],
   "source": [
    "to_display = df_lite.tail(4 * 24 * 3)\n",
    "\n",
    "glp.plot(to_display)"
   ]
  }
 ],
 "metadata": {
  "kernelspec": {
   "display_name": "grid",
   "language": "python",
   "name": "python3"
  },
  "language_info": {
   "codemirror_mode": {
    "name": "ipython",
    "version": 3
   },
   "file_extension": ".py",
   "mimetype": "text/x-python",
   "name": "python",
   "nbconvert_exporter": "python",
   "pygments_lexer": "ipython3",
   "version": "3.11.9"
  }
 },
 "nbformat": 4,
 "nbformat_minor": 2
}
